{
 "cells": [
  {
   "cell_type": "markdown",
   "id": "2813cc99",
   "metadata": {},
   "source": [
    "# Using the Custom Hardware Image Generator\n",
    "\n",
    "This notebook demonstrates hardware generation of an image stream and displaying it on the HDMI output. Before running it you will need to compile the example overlay with the frame generator in Verilog. Two files are generated:\n",
    "- a `.bit` file, containing the FPGA configuration bitstream\n",
    "- a `.hwh` (hardware handoff) file, containing information about the module heirarchy and memory map\n",
    "\n",
    "Copy both files to the user home directory on the Pynq operating system. Then load them (loading the `.bit` also reads the `.hwh` of the same name):"
   ]
  },
  {
   "cell_type": "code",
   "execution_count": 1,
   "id": "4dfaf0b8",
   "metadata": {
    "scrolled": false
   },
   "outputs": [
    {
     "data": {
      "application/javascript": [
       "\n",
       "try {\n",
       "require(['notebook/js/codecell'], function(codecell) {\n",
       "  codecell.CodeCell.options_default.highlight_modes[\n",
       "      'magic_text/x-csrc'] = {'reg':[/^%%microblaze/]};\n",
       "  Jupyter.notebook.events.one('kernel_ready.Kernel', function(){\n",
       "      Jupyter.notebook.get_cells().map(function(cell){\n",
       "          if (cell.cell_type == 'code'){ cell.auto_highlight(); } }) ;\n",
       "  });\n",
       "});\n",
       "} catch (e) {};\n"
      ]
     },
     "metadata": {},
     "output_type": "display_data"
    },
    {
     "data": {
      "application/javascript": [
       "\n",
       "try {\n",
       "require(['notebook/js/codecell'], function(codecell) {\n",
       "  codecell.CodeCell.options_default.highlight_modes[\n",
       "      'magic_text/x-csrc'] = {'reg':[/^%%pybind11/]};\n",
       "  Jupyter.notebook.events.one('kernel_ready.Kernel', function(){\n",
       "      Jupyter.notebook.get_cells().map(function(cell){\n",
       "          if (cell.cell_type == 'code'){ cell.auto_highlight(); } }) ;\n",
       "  });\n",
       "});\n",
       "} catch (e) {};\n"
      ]
     },
     "metadata": {},
     "output_type": "display_data"
    }
   ],
   "source": [
    "from pynq import Overlay\n",
    "from pynq.lib.video import *\n",
    "\n",
    "overlay = Overlay(\"/home/xilinx/omega_thread.bit\")"
   ]
  },
  {
   "cell_type": "markdown",
   "id": "5943a220",
   "metadata": {},
   "source": [
    "The overlay object is automatically configured with a Python attribute structure that allows you to access the hardware as Python objects. Appropriate driver classes are instantiated where a hardware block is recognised by the Pynq library. Here we get a convenient handle to the VDMA connected to the image generator:"
   ]
  },
  {
   "cell_type": "code",
   "execution_count": 2,
   "id": "4160f219",
   "metadata": {},
   "outputs": [],
   "source": [
    "#overlay?"
   ]
  },
  {
   "cell_type": "code",
   "execution_count": 3,
   "id": "3786e8e2",
   "metadata": {},
   "outputs": [],
   "source": [
    "imgen_vdma = overlay.video.axi_vdma_0.readchannel"
   ]
  },
  {
   "cell_type": "markdown",
   "id": "3b555f0c",
   "metadata": {},
   "source": [
    "Next, the image generator DMA is configured and started:"
   ]
  },
  {
   "cell_type": "code",
   "execution_count": 4,
   "id": "fb1279de",
   "metadata": {},
   "outputs": [
    {
     "data": {
      "text/plain": [
       "<contextlib._GeneratorContextManager at 0xac7d5688>"
      ]
     },
     "execution_count": 4,
     "metadata": {},
     "output_type": "execute_result"
    }
   ],
   "source": [
    "videoMode = common.VideoMode(1280, 720, 24) #changed\n",
    "imgen_vdma.mode = videoMode\n",
    "imgen_vdma.start()\n",
    "hdmi_out = overlay.video.hdmi_out\n",
    "hdmi_out._vdma = overlay.video.axi_vdma #Use the correct VDMA!\n",
    "hdmi_out.configure(videoMode)\n",
    "hdmi_out.start()"
   ]
  },
  {
   "cell_type": "markdown",
   "id": "cf526c7d",
   "metadata": {},
   "source": [
    "Send instructions to the GPU"
   ]
  },
  {
   "cell_type": "code",
   "execution_count": 5,
   "id": "ad54809c",
   "metadata": {},
   "outputs": [
    {
     "name": "stdout",
     "output_type": "stream",
     "text": [
      "done\n",
      "done\n",
      "done\n",
      "done\n",
      "done\n",
      "done\n",
      "done\n",
      "done\n",
      "done\n",
      "done\n"
     ]
    }
   ],
   "source": [
    "import time\n",
    "\n",
    "\n",
    "\n",
    "# Send instructions using CPU-GPU control signals\n",
    "def send_instructions(instructions):\n",
    "    overlay.video.axi_gpio_0.channel1.write(instructions[0], 0xffffffff)\n",
    "    while (overlay.video.axi_gpio_1.channel1.read() != 0b10):\n",
    "        time.sleep(1)  \n",
    "\n",
    "    for i in range(1, len(instructions)):\n",
    "        overlay.video.axi_gpio_0.channel1.write(0xa8000000, 0xffffffff)\n",
    "        while (overlay.video.axi_gpio_1.channel1.read() != 0b11):\n",
    "            time.sleep(1)\n",
    "\n",
    "        overlay.video.axi_gpio_0.channel1.write(instructions[i], 0xffffffff)\n",
    "        while (overlay.video.axi_gpio_1.channel1.read() != 0b10):\n",
    "            time.sleep(1)        \n",
    "\n",
    "    overlay.video.axi_gpio_0.channel1.write(0xb0000000, 0xffffffff)\n",
    "    while (overlay.video.axi_gpio_1.channel1.read() != 0b01):\n",
    "        time.sleep(1)      \n",
    "\n",
    "\n",
    "def send_programs(program_list):\n",
    "    for program in program_list:\n",
    "        send_instructions(program)\n",
    "        while (overlay.video.axi_gpio_1.channel1.read() != 0b00):\n",
    "            time.sleep(0.001) \n",
    "\n",
    "program0 = [\n",
    "    0xa0008000,\n",
    "    0x20000004,\n",
    "    0x2001a825,\n",
    "    0x000180a5,\n",
    "    0x800204a0,\n",
    "    0xe0001c00\n",
    "]\n",
    "\n",
    "program1 = [\n",
    "    0xa1008000,\n",
    "    0x2001a825,\n",
    "    0x000180a5,\n",
    "    0x20ff9ca4,\n",
    "    0x60004084,\n",
    "    0x4452fe06,\n",
    "    0x60030484,\n",
    "    0x439c7e46,\n",
    "    0x60030884,\n",
    "    0x4c147c06,\n",
    "    0x60030084,\n",
    "    0x2004aca6,\n",
    "    0x210004c6,\n",
    "    0x00030406,\n",
    "    0x600040c6,\n",
    "    0x4452fe07,\n",
    "    0x600384c6,\n",
    "    0x439c7e47,\n",
    "    0x600388c6,\n",
    "    0x4c147c07,\n",
    "    0x600380c6,\n",
    "    0x60030086,\n",
    "    0x20ff9ca4,\n",
    "    0x60004084,\n",
    "    0x4452fe07,\n",
    "    0x60038484,\n",
    "    0x439c7e47,\n",
    "    0x60038884,\n",
    "    0x4c147c07,\n",
    "    0x60038084,\n",
    "    0x2004aca7,\n",
    "    0x210004e7,\n",
    "    0x00038407,\n",
    "    0x600040e7,\n",
    "    0x4452fe08,\n",
    "    0x600404e7,\n",
    "    0x439c7e48,\n",
    "    0x600408e7,\n",
    "    0x4c147c08,\n",
    "    0x600400e7,\n",
    "    0x44147c08,\n",
    "    0x4c147c09,\n",
    "    0x60047080,\n",
    "    0x70027120,\n",
    "    0x54147c08,\n",
    "    0x5c147c09,\n",
    "    0x700470e0,\n",
    "    0x7003f120,\n",
    "    0x54147c08,\n",
    "    0x5c147c09,\n",
    "    0x700470c0,\n",
    "    0x70037120,\n",
    "    0x53f07c0a,\n",
    "    0x70050888,\n",
    "    0x50007c0a,\n",
    "    0x700508e9,\n",
    "    0x70048108,\n",
    "    0x50007c0a,\n",
    "    0x700508c9,\n",
    "    0x70048108,\n",
    "    0x50007c0b,\n",
    "    0x7005888a,\n",
    "    0x53f07c0b,\n",
    "    0x700588e9,\n",
    "    0x7004814a,\n",
    "    0x50007c0b,\n",
    "    0x700588c9,\n",
    "    0x7004814a,\n",
    "    0x58007c05,\n",
    "    0x7002888b,\n",
    "    0x50007c05,\n",
    "    0x700288e9,\n",
    "    0x7004816b,\n",
    "    0x53f07c05,\n",
    "    0x700288c9,\n",
    "    0x7004816b,\n",
    "    0x20010006,\n",
    "    0x30000006,\n",
    "    0x20000165,\n",
    "    0x43f07c04,\n",
    "    0x60021104,\n",
    "    0x60001947,\n",
    "    0x43a1ff69,\n",
    "    0x6004f0e0,\n",
    "    0x58007c07,\n",
    "    0x70038884,\n",
    "    0x53a1ff67,\n",
    "    0x70038084,\n",
    "    0x70027160,\n",
    "    0x5c147c05,\n",
    "    0x43f07c09,\n",
    "    0x60049149,\n",
    "    0x60001907,\n",
    "    0x43a1ff64,\n",
    "    0x600270e0,\n",
    "    0x50007c07,\n",
    "    0x70038929,\n",
    "    0x53a1ff67,\n",
    "    0x70038129,\n",
    "    0x7004f160,\n",
    "    0x5c147c05,\n",
    "    0x60001907,\n",
    "    0x43a1ff69,\n",
    "    0x6004f0e0,\n",
    "    0x70001947,\n",
    "    0x53a1ff69,\n",
    "    0x7004f0e0,\n",
    "    0x5c147c05,\n",
    "    0x200000ab,\n",
    "    0x2000f0c0,\n",
    "    0x5c147c05,\n",
    "    0x7002856b,\n",
    "    0x53b9fcc5,\n",
    "    0x7002896b,\n",
    "    0x50007c05,\n",
    "    0x7002816b,\n",
    "    0x5c147c04,\n",
    "    0x70020508,\n",
    "    0x54427cc4,\n",
    "    0x70020908,\n",
    "    0x5452fe04,\n",
    "    0x70020108,\n",
    "    0x5c147c04,\n",
    "    0x7002054a,\n",
    "    0x54427cc4,\n",
    "    0x7002094a,\n",
    "    0x5452fe04,\n",
    "    0x7002014a,\n",
    "    0x70004508,\n",
    "    0x7000454a,\n",
    "    0x3100054a,\n",
    "    0x1005040a,\n",
    "    0x3004a945,\n",
    "    0x100400a5,\n",
    "    0x70004d6b,\n",
    "    0x90058ca0,\n",
    "    0xe0001c00\n",
    "]\n",
    "\n",
    "program2 = [\n",
    "    0xa2004100,\n",
    "    0x20000004,\n",
    "    0xc0000080,\n",
    "    0xe0001c00\n",
    "]\n",
    "\n",
    "program3 = [\n",
    "    0xa3002000,\n",
    "    0x20000004,\n",
    "    0xc0000080,\n",
    "    0xc0000080,\n",
    "    0xc0000080,\n",
    "    0x20079c26,\n",
    "    0x2001a8c6,\n",
    "    0x000180c6,\n",
    "    0x20022c25,\n",
    "    0x2004a8a5,\n",
    "    0x000300a5,\n",
    "    0x800000a7,\n",
    "    0x20010008,\n",
    "    0x30000008,\n",
    "    0x20000009,\n",
    "    0x0004f4e0,\n",
    "    0x300084aa,\n",
    "    0x90000147,\n",
    "    0x1004f4e0,\n",
    "    0x3100054a,\n",
    "    0x90000147,\n",
    "    0x1004f4e0,\n",
    "    0x3000814a,\n",
    "    0x90000147,\n",
    "    0x2000f100,\n",
    "    0xc00000e0,\n",
    "    0x204000a5,\n",
    "    0x800000a7,\n",
    "    0x2001000a,\n",
    "    0x3000000a,\n",
    "    0x20000009,\n",
    "    0x0004f4e0,\n",
    "    0x300084a8,\n",
    "    0x90000107,\n",
    "    0x1004f4e0,\n",
    "    0x31000508,\n",
    "    0x90000107,\n",
    "    0x1004f4e0,\n",
    "    0x30008108,\n",
    "    0x90000107,\n",
    "    0x2000f140,\n",
    "    0xc00000e0,\n",
    "    0x204000a5,\n",
    "    0x800000a7,\n",
    "    0x20010008,\n",
    "    0x30000008,\n",
    "    0x20000009,\n",
    "    0x0004f4e0,\n",
    "    0x300084aa,\n",
    "    0x90000147,\n",
    "    0x1004f4e0,\n",
    "    0x3100054a,\n",
    "    0x90000147,\n",
    "    0x1004f4e0,\n",
    "    0x3000814a,\n",
    "    0x90000147,\n",
    "    0x2000f100,\n",
    "    0xc00000e0,\n",
    "    0x204000a5,\n",
    "    0x800000a7,\n",
    "    0x2001000a,\n",
    "    0x3000000a,\n",
    "    0x20000009,\n",
    "    0x0004f4e0,\n",
    "    0x300084a8,\n",
    "    0x90000107,\n",
    "    0x1004f4e0,\n",
    "    0x31000508,\n",
    "    0x90000107,\n",
    "    0x1004f4e0,\n",
    "    0x30008108,\n",
    "    0x90000107,\n",
    "    0x2000f140,\n",
    "    0xc00000e0,\n",
    "    0xc0000080,\n",
    "    0xc0000080,\n",
    "    0xc0000080,\n",
    "    0xe0001c00\n",
    "]\n",
    "\n",
    "program4 = [\n",
    "    0xa4004100,\n",
    "    0x20000004,\n",
    "    0xc0000080,\n",
    "    0xe0001c00\n",
    "]\n",
    "\n",
    "program_list = [program0, program1, program2, program3, program4]\n",
    "\n",
    "\n",
    "\n",
    "import time\n",
    "import threading\n",
    "\n",
    "# def send_frames():\n",
    "#     while True:\n",
    "#         print(\"sent prog\")\n",
    "#         time.sleep(0.5)\n",
    "#         send_programs(program_list)\n",
    "#         time.sleep(0.5)\n",
    "\n",
    "      \n",
    "\n",
    "\n",
    "# send_frames_thread = threading.Thread(target = send_frames, daemon=True)\n",
    "# send_frames_thread.start()\n",
    "\n",
    "\n",
    "# while True:\n",
    "#     print(\"frame\")\n",
    "#     time.sleep(0.5)\n",
    "#     frame = imgen_vdma.readframe()\n",
    "#     time.sleep(0.5)\n",
    "#     print(\"in the middle\")\n",
    "#     hdmi_out.writeframe(frame)\n",
    "#     time.sleep(0.5)\n",
    "#     print(\"finished frame\")\n",
    "\n",
    "send_programs(program_list)\n",
    "send_programs(program_list)\n",
    "send_programs(program_list)\n",
    "send_programs(program_list)\n",
    "send_programs(program_list)\n",
    "    \n",
    "for _ in range(10):    \n",
    "    send_programs(program_list)\n",
    "    time.sleep(0.1)\n",
    "    frame = imgen_vdma.readframe()\n",
    "    hdmi_out.writeframe(frame)\n",
    "    print(\"done\")\n",
    "\n",
    "\n",
    "    \n",
    "\n"
   ]
  },
  {
   "cell_type": "markdown",
   "id": "2fef7455",
   "metadata": {},
   "source": [
    "The VDMA continuously reads frames into a cycle of memory buffers. You can take software ownership of a frame and get a NumPy handle for it:"
   ]
  },
  {
   "cell_type": "code",
   "execution_count": null,
   "id": "f59da17d",
   "metadata": {},
   "outputs": [],
   "source": [
    "frame = imgen_vdma.readframe()"
   ]
  },
  {
   "cell_type": "markdown",
   "id": "926fba9a",
   "metadata": {},
   "source": [
    "The frame can be displayed in the notebook using PiL:"
   ]
  },
  {
   "cell_type": "code",
   "execution_count": 6,
   "id": "7c3dd76a",
   "metadata": {},
   "outputs": [
    {
     "data": {
      "image/png": "[encoded data removed]",
      "text/plain": [
       "<PIL.Image.Image image mode=RGB size=1280x720 at 0xAC7D5238>"
      ]
     },
     "execution_count": 6,
     "metadata": {},
     "output_type": "execute_result"
    }
   ],
   "source": [
    "import PIL.Image\n",
    "\n",
    "image = PIL.Image.fromarray(frame)\n",
    "image"
   ]
  },
  {
   "cell_type": "markdown",
   "id": "4486fa82",
   "metadata": {},
   "source": [
    "Finally, stop the VDMAs so that the system is in a stable state at the end of the notebook"
   ]
  },
  {
   "cell_type": "code",
   "execution_count": 5,
   "id": "df9f4a0d",
   "metadata": {},
   "outputs": [
    {
     "data": {
      "text/plain": [
       "<contextlib._GeneratorContextManager at 0xacfedc40>"
      ]
     },
     "execution_count": 5,
     "metadata": {},
     "output_type": "execute_result"
    }
   ],
   "source": [
    "hdmi_out = overlay.video.hdmi_out\n",
    "hdmi_out._vdma = overlay.video.axi_vdma #Use the correct VDMA!\n",
    "hdmi_out.configure(videoMode)\n",
    "hdmi_out.start()"
   ]
  },
  {
   "cell_type": "code",
   "execution_count": 22,
   "id": "8d24c486",
   "metadata": {},
   "outputs": [],
   "source": [
    "hdmi_out.writeframe(frame)"
   ]
  },
  {
   "cell_type": "code",
   "execution_count": 18,
   "id": "463b11d7",
   "metadata": {},
   "outputs": [],
   "source": [
    "# imgen_vdma.stop()\n",
    "hdmi_out.close()"
   ]
  },
  {
   "cell_type": "code",
   "execution_count": null,
   "id": "6d7c249b",
   "metadata": {},
   "outputs": [],
   "source": []
  }
 ],
 "metadata": {
  "kernelspec": {
   "display_name": "Python 3 (ipykernel)",
   "language": "python",
   "name": "python3"
  },
  "language_info": {
   "codemirror_mode": {
    "name": "ipython",
    "version": 3
   },
   "file_extension": ".py",
   "mimetype": "text/x-python",
   "name": "python",
   "nbconvert_exporter": "python",
   "pygments_lexer": "ipython3",
   "version": "3.10.4"
  }
 },
 "nbformat": 4,
 "nbformat_minor": 5
}
